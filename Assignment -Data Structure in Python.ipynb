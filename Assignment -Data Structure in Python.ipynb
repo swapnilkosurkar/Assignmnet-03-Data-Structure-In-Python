{
 "cells": [
  {
   "cell_type": "code",
   "execution_count": 52,
   "id": "d957f245-43e3-4613-aed7-e9a7576fc4e7",
   "metadata": {},
   "outputs": [
    {
     "name": "stdout",
     "output_type": "stream",
     "text": [
      "linpawS olleH\n"
     ]
    }
   ],
   "source": [
    "#1.Write a code to reverse a string?\n",
    "\n",
    "#Answer:\n",
    "\n",
    "def reverse_string(a):\n",
    "    return a[::-1]\n",
    "\n",
    "\n",
    "string = \"Hello Swapnil\"\n",
    "reversed_string = reverse_string(string)\n",
    "print(reversed_string)"
   ]
  },
  {
   "cell_type": "code",
   "execution_count": 53,
   "id": "851db35e-b5af-4a08-a727-1b285b407e23",
   "metadata": {},
   "outputs": [
    {
     "name": "stdout",
     "output_type": "stream",
     "text": [
      "Number of vowels: 2\n"
     ]
    }
   ],
   "source": [
    "#2. Write a code to count the number of vowels in a string?\n",
    "\n",
    "#Answer:\n",
    "\n",
    "def count_vowels(s):\n",
    "    vowels = \"aeiouAEIOU\"\n",
    "    count = 0\n",
    "    for char in s:\n",
    "        if char in vowels:\n",
    "            count += 1\n",
    "    return count\n",
    "\n",
    "\n",
    "string = \"Swapnil\"\n",
    "vowel_count = count_vowels(string)\n",
    "print(f\"Number of vowels: {vowel_count}\")"
   ]
  },
  {
   "cell_type": "code",
   "execution_count": 54,
   "id": "eff0457e-f7c9-48ad-8445-d4c48197c4a4",
   "metadata": {},
   "outputs": [
    {
     "name": "stdout",
     "output_type": "stream",
     "text": [
      "The string is not a palindrome.\n"
     ]
    }
   ],
   "source": [
    "#3. Write a code to check if a given string is a palindrome or not?\n",
    "\n",
    "#Answer:\n",
    "\n",
    "def is_palindrome(s):\n",
    "    return s == s[::-1]\n",
    "\n",
    "string = \"My name is Nayan\"\n",
    "if is_palindrome(string):\n",
    "    print(\"The string is a palindrome.\")\n",
    "else:\n",
    "    print(\"The string is not a palindrome.\")\n",
    "\n"
   ]
  },
  {
   "cell_type": "code",
   "execution_count": 55,
   "id": "992d6d32-ee30-479a-bc3a-e77630701668",
   "metadata": {},
   "outputs": [
    {
     "name": "stdout",
     "output_type": "stream",
     "text": [
      "The strings are anagrams.\n"
     ]
    }
   ],
   "source": [
    "#4.Write a code to check if two given strings are anagrams of each other?\n",
    "\n",
    "#Answer:\n",
    "\n",
    "def are_anagrams(str1, str2):\n",
    "    \n",
    "    \n",
    "   return sorted(str1) == sorted(str2)\n",
    "\n",
    "string1 = \"wolf\"\n",
    "string2 = \"flow\"\n",
    "\n",
    "if are_anagrams(string1, string2):\n",
    "    print(\"The strings are anagrams.\")\n",
    "else:\n",
    "    print(\"The strings are not anagrams.\")"
   ]
  },
  {
   "cell_type": "code",
   "execution_count": 56,
   "id": "d3bdc71c-8134-4409-8c3f-354f42704efb",
   "metadata": {},
   "outputs": [
    {
     "name": "stdout",
     "output_type": "stream",
     "text": [
      "Substring 'is' found at positions: [8, 27, 46]\n"
     ]
    }
   ],
   "source": [
    "#5.Write a code to find all occurrences of a given substring within another string?\n",
    "\n",
    "#Answer:\n",
    "\n",
    "def find_all_occurrences(s, sub):\n",
    "    occurrences = []\n",
    "    start = 0\n",
    "\n",
    "    #Continue until there are no more substrings discovered\n",
    "    while True:\n",
    "        pos = s.find(sub, start)\n",
    "        if pos == -1:\n",
    "            break\n",
    "        occurrences.append(pos)\n",
    "        start = pos + 1  #After the discovered substring, go to the next character\n",
    "\n",
    "    return occurrences\n",
    "\n",
    "\n",
    "string = \"The sky is blue, the grass is green, and life is beautiful\"\n",
    "substring = \"is\"\n",
    "positions = find_all_occurrences(string, substring)\n",
    "print(f\"Substring '{substring}' found at positions: {positions}\")\n"
   ]
  },
  {
   "cell_type": "code",
   "execution_count": 57,
   "id": "abc4802d-5bf8-4efc-9f7c-4486701db58e",
   "metadata": {},
   "outputs": [
    {
     "name": "stdout",
     "output_type": "stream",
     "text": [
      "s4w3a2p1\n"
     ]
    }
   ],
   "source": [
    "#6.Write a code to perform basic string compression using the counts of repeated characters?\n",
    "\n",
    "#Answer:\n",
    "\n",
    "def compress_string(s):\n",
    "    \n",
    "    compressed = []\n",
    "    count = 1\n",
    "\n",
    "    for i in range(1, len(s)):\n",
    "        if s[i] == s[i - 1]:\n",
    "            count += 1\n",
    "        else:\n",
    "            compressed.append(f\"{s[i - 1]}{count}\")\n",
    "            count = 1\n",
    "\n",
    "    compressed.append(f\"{s[-1]}{count}\")\n",
    "    compressed_str = ''.join(compressed)\n",
    "\n",
    "    return compressed_str if len(compressed_str) < len(s) else s\n",
    "\n",
    "original_string = \"sssswwwaap\"\n",
    "print(compress_string(original_string)) \n",
    "\n"
   ]
  },
  {
   "cell_type": "code",
   "execution_count": 58,
   "id": "260d4bb9-3d13-4d2d-9710-1dd4b765aad2",
   "metadata": {},
   "outputs": [
    {
     "name": "stdout",
     "output_type": "stream",
     "text": [
      "False\n",
      "True\n"
     ]
    }
   ],
   "source": [
    "#7. Write a code to determine if a string has all unique characters?\n",
    "\n",
    "def unique_characters(s):\n",
    "    return len(s) == len(set(s))\n",
    "\n",
    "string1 = \"swaaap\"\n",
    "string2 = \"pnil\"\n",
    "\n",
    "print(unique_characters(string1))  \n",
    "print(unique_characters(string2)) "
   ]
  },
  {
   "cell_type": "code",
   "execution_count": 59,
   "id": "8422d971-2d92-45d6-8a6b-09085478b7b2",
   "metadata": {},
   "outputs": [
    {
     "name": "stdout",
     "output_type": "stream",
     "text": [
      "Original String: Sachin, Kohli\n",
      "Uppercase String: SACHIN, KOHLI\n",
      "Lowercase String: sachin, kohli\n"
     ]
    }
   ],
   "source": [
    "#8. Write a code to convert a given string to uppercase or lowercase?\n",
    "\n",
    "#Answer:\n",
    "\n",
    "def convert_case(s, type_case):\n",
    "    if type_case == 'upper':\n",
    "        return s.upper()  # Convert to uppercase\n",
    "    elif type_case == 'lower':\n",
    "        return s.lower()  # Convert to lowercase\n",
    "\n",
    "original_string = \"Sachin, Kohli\"\n",
    "upper_string = convert_case(original_string, 'upper')\n",
    "lower_string = convert_case(original_string, 'lower')\n",
    "\n",
    "print(\"Original String:\", original_string)  \n",
    "print(\"Uppercase String:\", upper_string)   \n",
    "print(\"Lowercase String:\", lower_string)  \n"
   ]
  },
  {
   "cell_type": "code",
   "execution_count": 60,
   "id": "ffece732-b062-477d-8eb3-2179d5ed40b2",
   "metadata": {},
   "outputs": [
    {
     "name": "stdout",
     "output_type": "stream",
     "text": [
      "Original String: My name is Sachin Tendulkar\n",
      "Number of Words: 5\n"
     ]
    }
   ],
   "source": [
    "#9. Write a code to count the number of words in a string?\n",
    "\n",
    "#Answer:\n",
    "\n",
    "def count_words(s):\n",
    "    words = s.split()\n",
    "    return len(words)\n",
    "\n",
    "word_string = \"My name is Sachin Tendulkar\"\n",
    "word_count = count_words(word_string)\n",
    "\n",
    "print(\"Original String:\", word_string)  \n",
    "print(\"Number of Words:\", word_count)\n"
   ]
  },
  {
   "cell_type": "code",
   "execution_count": 61,
   "id": "c0dda4d6-9b97-4e61-9a1f-52cad03dc59e",
   "metadata": {},
   "outputs": [
    {
     "name": "stdout",
     "output_type": "stream",
     "text": [
      "Sachin Tendulkar\n"
     ]
    }
   ],
   "source": [
    "#10. Write a code to concatenate two strings without using the + operator?\n",
    "\n",
    "string1 = \"Sachin\"\n",
    "string2 = \"Tendulkar\"\n",
    "result = \" \".join([string1, string2])\n",
    "print(result) "
   ]
  },
  {
   "cell_type": "code",
   "execution_count": 62,
   "id": "19cd36df-7213-4b72-aa2e-bded6e1d5644",
   "metadata": {},
   "outputs": [
    {
     "name": "stdout",
     "output_type": "stream",
     "text": [
      "[1, 2, 4, 5]\n"
     ]
    }
   ],
   "source": [
    "#11.Write a code to remove all occurrences of a specific element from a list?\n",
    "\n",
    "#Answer:\n",
    "\n",
    "def remove_occurrences(list, element):\n",
    "    return [item for item in list if item != element]\n",
    "\n",
    "my_list = [1, 2, 3, 3, 3, 4, 5]\n",
    "element_to_remove = 3\n",
    "new_list = remove_occurrences(my_list, element_to_remove)\n",
    "print(new_list) \n"
   ]
  },
  {
   "cell_type": "code",
   "execution_count": 63,
   "id": "205b6af5-2049-4102-bd56-5a05e4ea849f",
   "metadata": {},
   "outputs": [
    {
     "name": "stdout",
     "output_type": "stream",
     "text": [
      "66\n"
     ]
    }
   ],
   "source": [
    "#12. Implement a code to find the second largest number in a given list of integers?\n",
    "\n",
    "#Answer:\n",
    "\n",
    "def second_largest(numbers):\n",
    "    unique_numbers = set(numbers)  # Remove duplicates\n",
    "    if len(unique_numbers) < 2:\n",
    "        return None \n",
    "    unique_numbers.remove(max(unique_numbers))  # Remove the largest\n",
    "    return max(unique_numbers)  # Return the second largest\n",
    "\n",
    "\n",
    "my_list = [11,22,22,33,66,88]\n",
    "result = second_largest(my_list)\n",
    "print(result)\n"
   ]
  },
  {
   "cell_type": "code",
   "execution_count": 64,
   "id": "dc69dc88-ad41-4500-a621-4cc6393e2cfc",
   "metadata": {},
   "outputs": [
    {
     "name": "stdout",
     "output_type": "stream",
     "text": [
      "{1: 3, 2: 1, 3: 1, 4: 5, 5: 1}\n"
     ]
    }
   ],
   "source": [
    "#13. Create a code to count the occurrences of each element in a list and return a dictionary with elements \n",
    "#as keys and their counts as values?\n",
    "\n",
    "#Answer:\n",
    "\n",
    "def count_occurrences(list):\n",
    "    counts = {}\n",
    "    for element in list:\n",
    "        if element in counts:\n",
    "            counts[element] += 1\n",
    "        else:\n",
    "            counts[element] = 1\n",
    "    return counts\n",
    "\n",
    "\n",
    "my_list = [1, 1, 1, 2, 3, 4, 4, 4, 4, 4,5]\n",
    "result = count_occurrences(my_list)\n",
    "print(result)"
   ]
  },
  {
   "cell_type": "code",
   "execution_count": 65,
   "id": "21d050ed-a0e4-4270-990f-6aecde447a0a",
   "metadata": {},
   "outputs": [
    {
     "name": "stdout",
     "output_type": "stream",
     "text": [
      "[55, 44, 132, 223, 122]\n"
     ]
    }
   ],
   "source": [
    "#14. Write a code to reverse a list in-place without using any built-in reverse functions?\n",
    "\n",
    "#Answer:\n",
    "\n",
    "def reverse_list(list):\n",
    "    left = 0\n",
    "    right = len(list) - 1\n",
    "    \n",
    "    while left < right:\n",
    "     \n",
    "        list[left], list[right] = list[right], list[left]\n",
    "        \n",
    "        left += 1\n",
    "        right -= 1\n",
    "\n",
    "\n",
    "my_list = [122, 223, 132, 44, 55]\n",
    "reverse_list(my_list)\n",
    "print(my_list)\n"
   ]
  },
  {
   "cell_type": "code",
   "execution_count": 66,
   "id": "47cffcc9-d7bd-4a8f-a662-ab88a05b87ca",
   "metadata": {},
   "outputs": [
    {
     "name": "stdout",
     "output_type": "stream",
     "text": [
      "[11, 22, 33, 44, 55, 66]\n"
     ]
    }
   ],
   "source": [
    "#15. Implement a code to find and remove duplicates from a list while preserving the original order of elements?\n",
    "\n",
    "#Answer:\n",
    "\n",
    "def remove_duplicates(list):\n",
    "    discovered = set() \n",
    "    result = []   # List to store the result without duplicates\n",
    "    \n",
    "    for element in list:\n",
    "        if element not in discovered:\n",
    "            discovered.add(element)  \n",
    "            # Append to result list\n",
    "            result.append(element)  \n",
    "    \n",
    "    return result\n",
    "\n",
    "\n",
    "my_list = [11, 22, 33, 22, 44, 33, 55, 66]\n",
    "result = remove_duplicates(my_list)\n",
    "print(result)"
   ]
  },
  {
   "cell_type": "code",
   "execution_count": 67,
   "id": "9fff6993-c7e7-48f7-baa6-a3cfb662249d",
   "metadata": {},
   "outputs": [
    {
     "name": "stdout",
     "output_type": "stream",
     "text": [
      "True\n",
      "True\n",
      "False\n"
     ]
    }
   ],
   "source": [
    "#16. Create a code to check if a given list is sorted (either in ascending or descending order) or not?\n",
    "\n",
    "#The function is_sorted checks whether the input list lst is sorted.\n",
    "#It returns True if the list is sorted in either ascending or descending order and False otherwise.\n",
    "\n",
    "#Answer:\n",
    "\n",
    "def is_sorted(list):\n",
    "    if len(list) < 2:\n",
    "        return True \n",
    "\n",
    "    ascending = all(list[i] <= list[i + 1] for i in range(len(list) - 1))\n",
    "    descending = all(list[i] >= list[i + 1] for i in range(len(list) - 1))\n",
    "\n",
    "    return ascending or descending\n",
    "\n",
    "\n",
    "my_list1 = [11, 22,33, 44, 55]\n",
    "my_list2 = [55, 44, 33, 32, 11]\n",
    "my_list3 = [11, 33, 22, 34]\n",
    "\n",
    "print(is_sorted(my_list1))  # True (ascending)\n",
    "print(is_sorted(my_list2))  # True (descending)\n",
    "print(is_sorted(my_list3))  # False (not sorted)\n"
   ]
  },
  {
   "cell_type": "code",
   "execution_count": 68,
   "id": "86fe5e8c-37cf-4f7d-b46f-d53146b519e4",
   "metadata": {},
   "outputs": [
    {
     "name": "stdout",
     "output_type": "stream",
     "text": [
      "[11, 22, 33, 44, 55, 66, 77, 88]\n"
     ]
    }
   ],
   "source": [
    "# 17. Write a code to merge two sorted lists into a single sorted list?\n",
    "\n",
    "#Answer:\n",
    "\n",
    "#The merge_two_sorted_lists function takes two sorted lists, list1 and list2\n",
    "def merge_two_sorted_lists(list1, list2):\n",
    "    merged_list = []\n",
    "    i, j = 0, 0\n",
    "\n",
    "    \n",
    "    while i < len(list1) and j < len(list2):\n",
    "        if list1[i] < list2[j]:\n",
    "            merged_list.append(list1[i])\n",
    "            i += 1\n",
    "        else:\n",
    "            merged_list.append(list2[j])\n",
    "            j += 1\n",
    "\n",
    "    # If there are remaining elements in list1, add them to merged_list\n",
    "    while i < len(list1):\n",
    "        merged_list.append(list1[i])\n",
    "        i += 1\n",
    "\n",
    "    # If there are remaining elements in list2, add them to merged_list\n",
    "    while j < len(list2):\n",
    "        merged_list.append(list2[j])\n",
    "        j += 1\n",
    "\n",
    "    return merged_list\n",
    "\n",
    "list1 = [11,33, 55, 77]\n",
    "list2 = [22, 44, 66, 88]\n",
    "result = merge_two_sorted_lists(list1, list2)\n",
    "print(result)\n"
   ]
  },
  {
   "cell_type": "code",
   "execution_count": 69,
   "id": "01b2db56-e240-4297-a7ff-25df71ed0979",
   "metadata": {},
   "outputs": [
    {
     "name": "stdout",
     "output_type": "stream",
     "text": [
      "[44, 55]\n"
     ]
    }
   ],
   "source": [
    "#18. Implement a code to find the intersection of two given lists?\n",
    "\n",
    "#Answer:\n",
    "\n",
    "def intersection(list1, list2):\n",
    "    # Convert lists to sets to find the intersection\n",
    "    set1 = set(list1)\n",
    "    set2 = set(list2)\n",
    "    \n",
    "    # uses the & operator to find common elements between the two sets\n",
    "    return list(set1 & set2)\n",
    "\n",
    "#converts the result back to a list and returns it.\n",
    "\n",
    "list1 = [22, 33, 44, 55]\n",
    "list2 = [44, 55, 66, 77]\n",
    "result = intersection(list1, list2)\n",
    "print(result)\n"
   ]
  },
  {
   "cell_type": "code",
   "execution_count": 70,
   "id": "c44fae55-92cc-4592-816a-95202125a220",
   "metadata": {},
   "outputs": [
    {
     "name": "stdout",
     "output_type": "stream",
     "text": [
      "[33, 66, 11, 44, 77, 22, 55]\n"
     ]
    }
   ],
   "source": [
    "#19. Create a code to find the union of two lsts without duplicates?\n",
    "\n",
    "#Answer:\n",
    "\n",
    "def union(list1, list2):\n",
    "    # Use a set to eliminate duplicates and combine both lists\n",
    "    # union function uses the | operator to combine the two sets created from the input lists, which automatically removes duplicates.\n",
    "    return list(set(list1) | set(list2))\n",
    "\n",
    "list1 = [11, 22, 33, 44]\n",
    "list2 = [44, 55, 66, 77]\n",
    "result = union(list1, list2)\n",
    "print(result) \n"
   ]
  },
  {
   "cell_type": "code",
   "execution_count": 71,
   "id": "5ac48fdf-451c-48c7-a682-12514d41164d",
   "metadata": {},
   "outputs": [
    {
     "name": "stdout",
     "output_type": "stream",
     "text": [
      "Original list: [11, 22, 33, 44, 55]\n",
      "Shuffled list: [22, 44, 55, 33, 11]\n"
     ]
    }
   ],
   "source": [
    "#20. Write a code to shuffle a given list randomly without using any built-in shuffle functions?\n",
    "\n",
    "#Answer:\n",
    "\n",
    "import random\n",
    "\n",
    "def shuffle_list(list):\n",
    "\n",
    "    # Create a copy of the original list to shuffle\n",
    "\n",
    "    shuffled_list = list[:]\n",
    "    n = len(shuffled_list)\n",
    "\n",
    "    # Iterate over the list in reverse order\n",
    "    for i in range(n - 1, 0, -1):\n",
    "\n",
    "        \n",
    "        j = random.randint(0, i)\n",
    "\n",
    "        # Swap elements at indices i and j\n",
    "        shuffled_list[i], shuffled_list[j] = shuffled_list[j], shuffled_list[i]\n",
    "\n",
    "    return shuffled_list\n",
    "\n",
    "\n",
    "original_list = [11, 22, 33, 44, 55]\n",
    "shuffled = shuffle_list(original_list)\n",
    "print(\"Original list:\", original_list)\n",
    "print(\"Shuffled list:\", shuffled)"
   ]
  },
  {
   "cell_type": "code",
   "execution_count": null,
   "id": "d7e25ee9-15e6-49c3-8af2-770122bc34ac",
   "metadata": {},
   "outputs": [
    {
     "name": "stdout",
     "output_type": "stream",
     "text": [
      "(25, 44)\n"
     ]
    }
   ],
   "source": [
    "#21. Write a code that takes two tuples as input and returns a new tuple containing elements that are common to both input tuples?\n",
    "\n",
    "#Answer:\n",
    "\n",
    "def common_elements(tuple1, tuple2):\n",
    "    \n",
    "    #set intersection to find common elements\n",
    "    return tuple(set(tuple1) & set(tuple2))\n",
    "\n",
    "tuple1 = (11,25,22,33,44)\n",
    "tuple2 = (44,25,55,66,77)\n",
    "result = common_elements(tuple1 ,tuple2)\n",
    "print(result)\n"
   ]
  },
  {
   "cell_type": "code",
   "execution_count": 74,
   "id": "62ff575d-b119-4fef-9962-ed1e2eb1a6ce",
   "metadata": {},
   "outputs": [
    {
     "name": "stdin",
     "output_type": "stream",
     "text": [
      "Enter the set01 of integers (separated by commas):  1,2,3\n",
      "Enter the set02 of integers (separated by commas):  3,4,5\n"
     ]
    },
    {
     "name": "stdout",
     "output_type": "stream",
     "text": [
      "The intersection of the two sets is: {3}\n"
     ]
    }
   ],
   "source": [
    "# 22. Create a code that prompts the user to enter two sets of integers separated by commas. \n",
    "#Then,print the intersection of these two sets?\n",
    "\n",
    "#Answer:\n",
    "\n",
    "def get_set_input(prompt):\n",
    "    # Prompt user input, split by commas, and convert to a set of integers\n",
    "    return set(map(int, input(prompt).split(',')))\n",
    "\n",
    "def main():\n",
    "    # Get two sets from user input\n",
    "    set1 = get_set_input(\"Enter the set01 of integers (separated by commas): \")\n",
    "    set2 = get_set_input(\"Enter the set02 of integers (separated by commas): \")\n",
    "\n",
    "    # intersection of two sets\n",
    "    intersection = set1 & set2\n",
    "\n",
    "    # Print the result\n",
    "    print(\"The intersection of the two sets is:\", intersection)\n",
    "\n",
    "# Run the main function\n",
    "if __name__ == \"__main__\":\n",
    "    main()\n"
   ]
  },
  {
   "cell_type": "code",
   "execution_count": 75,
   "id": "b208f66e-2414-4280-aa8c-da0c1dcd55c2",
   "metadata": {},
   "outputs": [
    {
     "name": "stdout",
     "output_type": "stream",
     "text": [
      "(11, 22, 33, 44, 55, 66, 77)\n"
     ]
    }
   ],
   "source": [
    "#23.Write a code to concatenate two tuples. \n",
    "#The function should take two tuples as input and return a new tuple containing elements from both input tuples?\n",
    "\n",
    "#Answer:\n",
    "\n",
    "#Using two tuples as input, this Python function creates a new tuple with the elements of the two input tuples concatenated\n",
    "\n",
    "def concatenate_tuples(tuple1, tuple2):\n",
    "    # Concatenate the two tuples\n",
    "    return tuple1 + tuple2\n",
    "\n",
    "tuple1 = (11, 22, 33)\n",
    "tuple2 = (44, 55, 66 ,77)\n",
    "result = concatenate_tuples(tuple1, tuple2)\n",
    "print(result) \n",
    "\n",
    "Output : (11, 22, 33, 44, 55, 66, 77)\n"
   ]
  },
  {
   "cell_type": "code",
   "execution_count": 20,
   "id": "34f67f92-45b6-4734-8d03-4ec4175f4271",
   "metadata": {},
   "outputs": [
    {
     "name": "stdin",
     "output_type": "stream",
     "text": [
      "Enter the first set of strings (separated by commas):  Sachin,Saurav,Virat\n",
      "Enter the second set of strings (separated by commas):  Tendulkar,Ganguly,Kohli\n"
     ]
    },
    {
     "name": "stdout",
     "output_type": "stream",
     "text": [
      "Elements present in the first set but not in the second set: {'Sachin', 'Saurav', 'Virat'}\n"
     ]
    }
   ],
   "source": [
    "\n",
    "#24. Develop a code that prompts the user to input two sets of strings.\n",
    "#Then,print the elements that are present in the first set but not in the second set?\n",
    "\n",
    "#Answer:\n",
    "\n",
    "#After reading user input and splitting it into sets of strings, this program uses the - operator to compute the difference. Things that are in the first set but absent from the second will be included in the difference.\n",
    "\n",
    "\n",
    "def get_set_input(prompt):\n",
    "    return set(input(prompt).split(','))\n",
    "\n",
    "def main():\n",
    "    # Get two sets from user input\n",
    "    set1 = get_set_input(\"Enter the first set of strings (separated by commas): \")\n",
    "    set2 = get_set_input(\"Enter the second set of strings (separated by commas): \")\n",
    "\n",
    "    # Calculate the difference (elements in set1 but not in set2)\n",
    "    difference = set1 - set2\n",
    "\n",
    "    # Print the result\n",
    "    print(\"Elements present in the first set but not in the second set:\", difference)\n",
    "\n",
    "# Run the main function\n",
    "if __name__ == \"__main__\":\n",
    "    main()\n",
    "\n"
   ]
  },
  {
   "cell_type": "code",
   "execution_count": 76,
   "id": "747ecbe0-fa25-42f6-88c5-ef5364a93d44",
   "metadata": {},
   "outputs": [
    {
     "name": "stdout",
     "output_type": "stream",
     "text": [
      "(33, 44, 55, 66)\n"
     ]
    }
   ],
   "source": [
    "# 25. Create a code that takes a tuple and two integers as input.\n",
    "#The function should return a new tuple containing elements from the original tuple within the specified range of indices?\n",
    "\n",
    "#Answer:\n",
    "\n",
    "#This Python function creates a new tuple with elements from the original tuple within the given range of indices, given a tuple and two integers (which represent indices) as input:\n",
    "\n",
    "def slice_tuple(input_tuple, start_index, end_index):\n",
    "    # Slice the tuple from start_index to end_index\n",
    "    return input_tuple[start_index:end_index]\n",
    "\n",
    "\n",
    "input_tuple = (11, 22, 33, 44, 55, 66, 77)\n",
    "start_index = 2\n",
    "end_index = 6\n",
    "result = slice_tuple(input_tuple, start_index, end_index)\n",
    "print(result)\n"
   ]
  },
  {
   "cell_type": "code",
   "execution_count": 30,
   "id": "1ea2015c-08b0-48c3-8ba9-5d9b5c149c53",
   "metadata": {},
   "outputs": [
    {
     "name": "stdin",
     "output_type": "stream",
     "text": [
      "Enter the first set of characters (separated by commas):  aa,bb,cc,dd\n",
      "Enter the second set of characters (separated by commas):  dd,bb,cc,ee\n"
     ]
    },
    {
     "name": "stdout",
     "output_type": "stream",
     "text": [
      "The union of the two sets is: {'ee', 'dd', 'aa', 'cc', 'bb'}\n"
     ]
    }
   ],
   "source": [
    "#26. Write a code that prompts the user to input two sets of characters.\n",
    "#Then,print the union of these two sets?\n",
    "\n",
    "#Answer:\n",
    "\n",
    "def get_set_input(prompt):\n",
    "    return set(input(prompt).split(','))\n",
    "\n",
    "def main():\n",
    "    # Get two sets from user input\n",
    "    set1 = get_set_input(\"Enter the first set of characters (separated by commas): \")\n",
    "    set2 = get_set_input(\"Enter the second set of characters (separated by commas): \")\n",
    "\n",
    "    # union - all elements from both sets\n",
    "    union = set1 | set2\n",
    "\n",
    "    # Print the result\n",
    "    print(\"The union of the two sets is:\", union)\n",
    "\n",
    "# Run the main function\n",
    "if __name__ == \"__main__\":\n",
    "    main()\n"
   ]
  },
  {
   "cell_type": "code",
   "execution_count": 77,
   "id": "3527fb4f-57a3-4d1d-89e6-7a4bca677ab0",
   "metadata": {},
   "outputs": [
    {
     "name": "stdout",
     "output_type": "stream",
     "text": [
      "Minimum value: 18, Maximum value: 921\n"
     ]
    }
   ],
   "source": [
    "#27.Develop a code that takes a tuple of integers as input.\n",
    "#The function should return the maximum and minimum values from the tuple using tuple unpacking.\n",
    "\n",
    "#Answer:\n",
    "\n",
    "#The function find_min_max takes a tuple of integers and uses the min() and max() functions to find the smallest and largest values.\n",
    "\n",
    "\n",
    "def find_min_max(input_tuple):\n",
    "    # Use tuple unpacking to find the minimum and maximum values\n",
    "    min_value, max_value = min(input_tuple), max(input_tuple)\n",
    "    return min_value, max_value\n",
    "\n",
    "\n",
    "input_tuple = (18, 921, 872, 839, 33, 65)\n",
    "min_val, max_val = find_min_max(input_tuple)\n",
    "print(f\"Minimum value: {min_val}, Maximum value: {max_val}\")\n"
   ]
  },
  {
   "cell_type": "code",
   "execution_count": 33,
   "id": "dade0bb2-2a5d-4d38-baf6-9b930e977480",
   "metadata": {},
   "outputs": [
    {
     "name": "stdout",
     "output_type": "stream",
     "text": [
      "Union of the two sets: {33, 66, 11, 44, 77, 22, 55, 88}\n",
      "Intersection of the two sets: {44}\n",
      "Difference of the two sets (set1 - set2): {33, 11, 22}\n"
     ]
    }
   ],
   "source": [
    "#28.Create a code that defines two sets of integers.\n",
    "#Then,print the union,intersection,and difference of these two sets.\n",
    "\n",
    "#Answer:\n",
    "\n",
    "#Union (|): Combines all unique elements from both sets.\n",
    "#Intersection (&): Returns elements common to both sets.\n",
    "#Difference (-): Returns elements that are in set1 but not in set2.\n",
    "\n",
    "def main():\n",
    "    # Defining two sets of integers\n",
    "    set1 = {11, 22, 33, 44}\n",
    "    set2 = {44, 55, 66, 77, 88}\n",
    "\n",
    "    # Calculate union, intersection, and difference\n",
    "    \n",
    "    #Union of the two sets\n",
    "    union = set1 | set2      \n",
    "    \n",
    "    #Intersection of the two sets\n",
    "    intersection = set1 & set2     \n",
    "    \n",
    "    #Difference (elements in set1 but not in set2)\n",
    "    difference = set1 - set2       \n",
    "\n",
    "    print(\"Union of the two sets:\", union)\n",
    "    print(\"Intersection of the two sets:\", intersection)\n",
    "    print(\"Difference of the two sets (set1 - set2):\", difference)\n",
    "\n",
    "# Run the main function\n",
    "if __name__ == \"__main__\":\n",
    "    main()\n"
   ]
  },
  {
   "cell_type": "code",
   "execution_count": 78,
   "id": "311a273c-e7f1-4625-bbb1-0a8020929cd8",
   "metadata": {},
   "outputs": [
    {
     "name": "stdout",
     "output_type": "stream",
     "text": [
      "The element 33 appears 3 times in the tuple.\n"
     ]
    }
   ],
   "source": [
    "#29.Write a code that takes a tuple and an element as input. \n",
    "#The function should return the count of occurrences of the given element in the tuple?\n",
    "\n",
    "#Answer:\n",
    "\n",
    "def count_occurrences(tup, element):\n",
    "    return tup.count(element)\n",
    "\n",
    "\n",
    "my_tuple = (33, 22, 33, 44, 33, 42)\n",
    "element_to_count = 33\n",
    "count = count_occurrences(my_tuple, element_to_count)\n",
    "print(f\"The element {element_to_count} appears {count} times in the tuple.\")"
   ]
  },
  {
   "cell_type": "code",
   "execution_count": 37,
   "id": "bbe99cf9-881e-4f84-b4fe-e2f7457899cb",
   "metadata": {},
   "outputs": [
    {
     "name": "stdin",
     "output_type": "stream",
     "text": [
      "Enter the first set of strings (separated by spaces):  star,fish\n",
      "Enter the second set of strings (separated by spaces):  dolphin,turtle\n"
     ]
    },
    {
     "name": "stdout",
     "output_type": "stream",
     "text": [
      "The symmetric difference of the two sets is: {'dolphin,turtle', 'star,fish'}\n"
     ]
    }
   ],
   "source": [
    "#30.Develop a code that prompts the user to input two sets of strings.\n",
    "#Then, print the symmetric difference of these two sets?\n",
    "\n",
    "#Answer:\n",
    "\n",
    "def get_set_input(prompt):\n",
    "    user_input = input(prompt)\n",
    "    return set(user_input.split())\n",
    "\n",
    "# Get two sets of strings from the user\n",
    "set1 = get_set_input(\"Enter the first set of strings (separated by spaces): \")\n",
    "set2 = get_set_input(\"Enter the second set of strings (separated by spaces): \")\n",
    "\n",
    "#symmetric difference\n",
    "symmetric_difference = set1.symmetric_difference(set2)\n",
    "\n",
    "print(\"The symmetric difference of the two sets is:\", symmetric_difference)\n"
   ]
  },
  {
   "cell_type": "code",
   "execution_count": 39,
   "id": "4916f044-d5f8-40b4-95e7-8818fdd80aba",
   "metadata": {},
   "outputs": [
    {
     "name": "stdin",
     "output_type": "stream",
     "text": [
      "Enter a list of words (separated by spaces):  sachin rahul virat sachin\n"
     ]
    },
    {
     "name": "stdout",
     "output_type": "stream",
     "text": [
      "Word Frequencies: {'sachin': 2, 'rahul': 1, 'virat': 1}\n"
     ]
    }
   ],
   "source": [
    "#31.Write a code that takes a list of words as input and returns a dictionary where the keys are unique words\n",
    "# and the values are the frequencies of those words in the input list.\n",
    "\n",
    "#Answer:\n",
    "\n",
    "def word_frequencies(words):\n",
    "    frequency_dict = {}\n",
    "    for word in words:\n",
    "        \n",
    "        frequency_dict[word] = frequency_dict.get(word, 0) + 1\n",
    "    return frequency_dict\n",
    "\n",
    "\n",
    "input_words = input(\"Enter a list of words (separated by spaces): \").split()\n",
    "frequencies = word_frequencies(input_words)\n",
    "print(\"Word Frequencies:\", frequencies)\n"
   ]
  },
  {
   "cell_type": "code",
   "execution_count": 79,
   "id": "36a35977-ffd9-481b-8162-400f00fd7e33",
   "metadata": {},
   "outputs": [
    {
     "name": "stdout",
     "output_type": "stream",
     "text": [
      "{'a': 11, 'b': 65, 'c': 97, 'd': 75}\n"
     ]
    }
   ],
   "source": [
    "#32.Write a code that takes two dictionaries as input and merges them into a single dictionary. If there are\n",
    "#common keys,the values should be added together .\n",
    "\n",
    "#Answer:\n",
    "\n",
    "def merge_dictionaries(dict1, dict2):\n",
    "    merged_dict = dict1.copy() \n",
    "\n",
    "    for key, value in dict2.items():\n",
    "        if key in merged_dict:\n",
    "            merged_dict[key] += value  # Sum values for common keys\n",
    "        else:\n",
    "            merged_dict[key] = value  # Add new key-value pairs\n",
    "\n",
    "    return merged_dict\n",
    "\n",
    "\n",
    "dict1 = {'a': 11, 'b': 42, 'c': 13}\n",
    "dict2 = {'b': 23, 'c': 84, 'd': 75}\n",
    "\n",
    "result = merge_dictionaries(dict1, dict2)\n",
    "print(result) "
   ]
  },
  {
   "cell_type": "code",
   "execution_count": 46,
   "id": "a0dfa641-f496-4976-8977-30aa5ba86c8c",
   "metadata": {},
   "outputs": [
    {
     "name": "stdout",
     "output_type": "stream",
     "text": [
      "34\n",
      "None\n"
     ]
    }
   ],
   "source": [
    "#33. Write a code to access a value in a nested dictionary. The function should take the dictionary and a list of\n",
    "#keys as input, and return the corresponding value. \n",
    "#If any of the keys do not exist in the dictionary, the function should return None.\n",
    "\n",
    "#Answer:\n",
    "\n",
    "#The function get_nested_value takes two parameters: nested_dict, which is the dictionary to search,\n",
    "#and keys, which is a list of keys.\n",
    "\n",
    "def get_nested_value(nested_dict, keys): \n",
    "    \n",
    "    #It initializes current_value to the input dictionary and iterates through each key in the list\n",
    "    \n",
    "    current_value = nested_dict\n",
    "    for key in keys:      \n",
    "        if isinstance(current_value, dict) and key in current_value:\n",
    "            current_value = current_value[key]\n",
    "        else:\n",
    "            return None\n",
    "    return current_value\n",
    "\n",
    "\n",
    "nested_dictionary = {\n",
    "    'a': {\n",
    "        'b': {\n",
    "            'c': 34\n",
    "        }\n",
    "    },\n",
    "    'd': 100\n",
    "}\n",
    "\n",
    "\n",
    "result = get_nested_value(nested_dictionary, ['a', 'b', 'c'])  \n",
    "#output: 42\n",
    "print(result)\n",
    "\n",
    "result = get_nested_value(nested_dictionary, ['a', 'b', 'e'])\n",
    "#output: None\n",
    "print(result)\n"
   ]
  },
  {
   "cell_type": "code",
   "execution_count": 49,
   "id": "8444a60e-0794-4533-842e-5e2fe5b16452",
   "metadata": {},
   "outputs": [
    {
     "name": "stdout",
     "output_type": "stream",
     "text": [
      "Sorted (Ascending): {'saurav': 3, 'sachin': 4, 'rahul': 5, 'rajeev': 6}\n",
      "Sorted (Descending): {'rajeev': 6, 'rahul': 5, 'sachin': 4, 'saurav': 3}\n"
     ]
    }
   ],
   "source": [
    "#34.Write a code that takes a dictionary as input and returns a sorted version of it based on the values. You\n",
    "#can choose whether to sort in ascending or descending order?\n",
    "\n",
    "#Answer:\n",
    "\n",
    "#The sort_dict_by_values function takes a dictionary and a boolean ascending parameter.\n",
    "#It uses the sorted() function, sorting by the values.\n",
    "\n",
    "def sort_dict_values(input_dict, ascending=True):\n",
    "    \n",
    "    return dict(sorted(input_dict.items(), key=lambda item: item[1], reverse=not ascending))\n",
    "\n",
    "\n",
    "my_dict = {'sachin': 4, 'saurav': 3, 'rahul': 5, 'rajeev': 6}\n",
    "sorted_dict_asc = sort_dict_values(my_dict, ascending=True)\n",
    "sorted_dict_desc = sort_dict_values(my_dict, ascending=False)\n",
    "\n",
    "print(\"Sorted (Ascending):\", sorted_dict_asc)\n",
    "print(\"Sorted (Descending):\", sorted_dict_desc)\n"
   ]
  },
  {
   "cell_type": "code",
   "execution_count": 80,
   "id": "9ba9a1b8-8d63-4ba9-80c4-97d5e0e3b10b",
   "metadata": {},
   "outputs": [
    {
     "name": "stdout",
     "output_type": "stream",
     "text": [
      "Inverted Dictionary: {12: 'a', 13: 'b', 15: 'c', 18: 'd'}\n"
     ]
    }
   ],
   "source": [
    "#35. Write a code that inverts a dictionary,swapping keys and values. Ensure that the inverted dictionary\n",
    "#correctly handles cases where multiple keys have the same value by storing the keys \n",
    "#as a list in the inverted dictionary.\n",
    "\n",
    "#Answer:\n",
    "\n",
    "# invert_dict function iterates through the input dictionary\n",
    "\n",
    "def invert_dict(input_dict):\n",
    "   \n",
    "    inverted_dict = {}\n",
    "    \n",
    "    for key, value in input_dict.items():\n",
    "        if value in inverted_dict:\n",
    "            # If the value already exists, append the key to the list\n",
    "            if isinstance(inverted_dict[value], list):\n",
    "                inverted_dict[value].append(key)\n",
    "            else:\n",
    "                inverted_dict[value] = [inverted_dict[value], key]\n",
    "        else:\n",
    "            # If the value does not exist, set it as the key\n",
    "            inverted_dict[value] = key\n",
    "            \n",
    "    return inverted_dict\n",
    "\n",
    "my_dict = {'a': 12, 'b': 13, 'c': 15, 'd': 18}\n",
    "inverted_dict = invert_dict(my_dict)\n",
    "\n",
    "print(\"Inverted Dictionary:\", inverted_dict)\n"
   ]
  },
  {
   "cell_type": "code",
   "execution_count": null,
   "id": "d2ed1395-35be-48fb-b015-248fdd8fe097",
   "metadata": {},
   "outputs": [],
   "source": [
    "\n",
    "#---------------------The End----------------------------------"
   ]
  }
 ],
 "metadata": {
  "kernelspec": {
   "display_name": "Python 3 (ipykernel)",
   "language": "python",
   "name": "python3"
  },
  "language_info": {
   "codemirror_mode": {
    "name": "ipython",
    "version": 3
   },
   "file_extension": ".py",
   "mimetype": "text/x-python",
   "name": "python",
   "nbconvert_exporter": "python",
   "pygments_lexer": "ipython3",
   "version": "3.10.8"
  }
 },
 "nbformat": 4,
 "nbformat_minor": 5
}
